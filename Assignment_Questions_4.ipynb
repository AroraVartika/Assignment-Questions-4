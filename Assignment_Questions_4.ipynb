{
  "nbformat": 4,
  "nbformat_minor": 0,
  "metadata": {
    "colab": {
      "provenance": []
    },
    "kernelspec": {
      "name": "python3",
      "display_name": "Python 3"
    },
    "language_info": {
      "name": "python"
    }
  },
  "cells": [
    {
      "cell_type": "markdown",
      "source": [
        "<aside>\n",
        "💡 **Question 1**\n",
        "Given three integer arrays arr1, arr2 and arr3 **sorted** in **strictly increasing** order, return a sorted array of **only** the integers that appeared in **all** three arrays.\n",
        "\n",
        "**Example 1:**\n",
        "\n",
        "Input: arr1 = [1,2,3,4,5], arr2 = [1,2,5,7,9], arr3 = [1,3,4,5,8]\n",
        "\n",
        "Output: [1,5]\n",
        "\n",
        "**Explanation:** Only 1 and 5 appeared in the three arrays.\n",
        "\n",
        "</aside>"
      ],
      "metadata": {
        "id": "A4gi82v4f7zD"
      }
    },
    {
      "cell_type": "code",
      "source": [
        "def findCommon(a, b, c, n1, n2, n3):\n",
        " \n",
        "    uset = set()\n",
        "    uset2 = set()\n",
        "    uset3 = set()\n",
        "    for i in range(n1):\n",
        "        uset.add(a[i])\n",
        " \n",
        "    for i in range(n2):\n",
        "        uset2.add(b[i])\n",
        " \n",
        "    for i in range(n3):\n",
        " \n",
        "        if(c[i] in uset and c[i] in uset2):\n",
        " \n",
        "            if c[i] not in uset3:\n",
        "                print(c[i], end = \" \")\n",
        "            uset3.add(c[i])\n",
        " \n",
        "ar1 = [ 1, 2,3,4,5]\n",
        "ar2 = [ 1,2,5,7,9 ]\n",
        "ar3 = [ 1,3,4,5,8]\n",
        "n1 = len(ar1)\n",
        "n2 = len(ar2)\n",
        "n3 = len(ar3)\n",
        " \n",
        "print(\"Common Elements are \")\n",
        "findCommon(ar1, ar2, ar3, n1, n2, n3)"
      ],
      "metadata": {
        "colab": {
          "base_uri": "https://localhost:8080/"
        },
        "id": "2xYzdtq7f8Fn",
        "outputId": "a9ef4171-8be6-4354-b6f9-70627832b8e9"
      },
      "execution_count": null,
      "outputs": [
        {
          "output_type": "stream",
          "name": "stdout",
          "text": [
            "Common Elements are \n",
            "1 5 "
          ]
        }
      ]
    },
    {
      "cell_type": "markdown",
      "source": [
        "<aside>\n",
        "💡 **Question 2**\n",
        "\n",
        "Given two **0-indexed** integer arrays nums1 and nums2, return *a list* answer *of size* 2 *where:*\n",
        "\n",
        "- answer[0] *is a list of all **distinct** integers in* nums1 *which are **not** present in* nums2*.*\n",
        "- answer[1] *is a list of all **distinct** integers in* nums2 *which are **not** present in* nums1.\n",
        "\n",
        "**Note** that the integers in the lists may be returned in **any** order.\n",
        "\n",
        "**Example 1:**\n",
        "\n",
        "**Input:** nums1 = [1,2,3], nums2 = [2,4,6]\n",
        "\n",
        "**Output:** [[1,3],[4,6]]\n",
        "\n",
        "**Explanation:**\n",
        "\n",
        "For nums1, nums1[1] = 2 is present at index 0 of nums2, whereas nums1[0] = 1 and nums1[2] = 3 are not present in nums2. Therefore, answer[0] = [1,3].\n",
        "\n",
        "For nums2, nums2[0] = 2 is present at index 1 of nums1, whereas nums2[1] = 4 and nums2[2] = 6 are not present in nums2. Therefore, answer[1] = [4,6].\n",
        "\n",
        "</aside>"
      ],
      "metadata": {
        "id": "9bfb93Dkf8Vq"
      }
    },
    {
      "cell_type": "code",
      "source": [
        "class Solution(object):\n",
        "    def searchInsert(self, nums, target):\n",
        "        for i in range(len(nums)):\n",
        "            if(nums[i] >= target):\n",
        "                return i\n",
        "        return len(nums)"
      ],
      "metadata": {
        "id": "CtuvY0Rsf8nJ"
      },
      "execution_count": null,
      "outputs": []
    },
    {
      "cell_type": "markdown",
      "source": [
        "<aside>\n",
        "💡 **Question 3**\n",
        "Given a 2D integer array matrix, return *the **transpose** of* matrix.\n",
        "\n",
        "The **transpose** of a matrix is the matrix flipped over its main diagonal, switching the matrix's row and column indices.\n",
        "\n",
        "**Example 1:**\n",
        "\n",
        "Input: matrix = [[1,2,3],[4,5,6],[7,8,9]]\n",
        "\n",
        "Output: [[1,4,7],[2,5,8],[3,6,9]]\n",
        "\n",
        "</aside>"
      ],
      "metadata": {
        "id": "5NWtWfbif84S"
      }
    },
    {
      "cell_type": "code",
      "source": [
        "N = 3\n",
        "def transpose(A,B):\n",
        " \n",
        " for i in range(N):\n",
        "  for j in range(N):\n",
        "   B[i][j] = A[j][i]\n",
        " \n",
        "# driver code\n",
        "A =  [[1,2,3],[4,5,6],[7,8,9]]\n",
        " \n",
        " \n",
        "B = A[:][:] \n",
        " \n",
        "transpose(A, B)\n",
        " \n",
        "print(\"Result matrix is\")\n",
        "for i in range(N):\n",
        " for j in range(N):\n",
        "  print(B[i][j], \" \", end='')\n",
        " print()\n",
        "  "
      ],
      "metadata": {
        "colab": {
          "base_uri": "https://localhost:8080/"
        },
        "id": "K9HjhmKof9Hu",
        "outputId": "fde55693-e0ef-48b7-fa37-ef8ae07fc27a"
      },
      "execution_count": null,
      "outputs": [
        {
          "output_type": "stream",
          "name": "stdout",
          "text": [
            "Result matrix is\n",
            "1  4  7  \n",
            "4  5  8  \n",
            "7  8  9  \n"
          ]
        }
      ]
    },
    {
      "cell_type": "markdown",
      "source": [
        "<aside>\n",
        "💡 **Question 4**\n",
        "Given an integer array nums of 2n integers, group these integers into n pairs (a1, b1), (a2, b2), ..., (an, bn) such that the sum of min(ai, bi) for all i is **maximized**. Return *the maximized sum*.\n",
        "\n",
        "**Example 1:**\n",
        "\n",
        "Input: nums = [1,4,3,2]\n",
        "\n",
        "Output: 4\n",
        "\n",
        "**Explanation:** All possible pairings (ignoring the ordering of elements) are:\n",
        "\n",
        "1. (1, 4), (2, 3) -> min(1, 4) + min(2, 3) = 1 + 2 = 3\n",
        "\n",
        "2. (1, 3), (2, 4) -> min(1, 3) + min(2, 4) = 1 + 2 = 3\n",
        "\n",
        "3. (1, 2), (3, 4) -> min(1, 2) + min(3, 4) = 1 + 3 = 4\n",
        "\n",
        "So the maximum possible sum is 4.\n",
        "\n",
        "</aside>"
      ],
      "metadata": {
        "id": "7U15gSNVf9Z4"
      }
    },
    {
      "cell_type": "code",
      "source": [
        "class Solution(object):\n",
        "    def arrayPairSum(self, nums):\n",
        "        \"\"\"\n",
        "        :type nums: List[int]\n",
        "        :rtype: int\n",
        "        \"\"\"\n",
        "        nums.sort()\n",
        "        result = 0\n",
        "        numsLen = len(nums)\n",
        "        for i in range(0, numsLen - 1, 2):\n",
        "            result += nums[i]\n",
        "        return result"
      ],
      "metadata": {
        "id": "en9Xdpe_f9qC"
      },
      "execution_count": null,
      "outputs": []
    },
    {
      "cell_type": "code",
      "source": [],
      "metadata": {
        "id": "LVNDbqZAyvnh"
      },
      "execution_count": null,
      "outputs": []
    },
    {
      "cell_type": "markdown",
      "source": [
        "<aside>\n",
        "💡 **Question 5**\n",
        "You have n coins and you want to build a staircase with these coins. The staircase consists of k rows where the ith row has exactly i coins. The last row of the staircase **may be** incomplete.\n",
        "\n",
        "Given the integer n, return *the number of **complete rows** of the staircase you will build*.\n",
        "\n",
        "**Example 1:**\n",
        "\n",
        "[]()\n",
        "\n",
        "![v2.jpg](https://s3-us-west-2.amazonaws.com/secure.notion-static.com/4bd91cfa-d2b1-47b3-8197-a72e8dcfff4b/v2.jpg)\n",
        "\n",
        "**Input:** n = 5\n",
        "\n",
        "**Output:** 2\n",
        "\n",
        "**Explanation:** Because the 3rd row is incomplete, we return 2.\n",
        "\n",
        "</aside>"
      ],
      "metadata": {
        "id": "xp5iBt9NlIqg"
      }
    },
    {
      "cell_type": "code",
      "source": [
        "def countWaysUtil(n, m):\n",
        "    if n <= 1:\n",
        "        return n\n",
        "    res = 0\n",
        "    i = 1\n",
        "    while i<= m and i<= n:\n",
        "        res = res + countWaysUtil(n-i, m)\n",
        "        i = i + 1\n",
        "    return res\n",
        "        \n",
        "def countWays(s, m):\n",
        "    return countWaysUtil(s + 1, m)\n",
        "     \n",
        " \n",
        "# Driver program\n",
        "s, m = 4, 2\n",
        "print(\"Number of ways =\", countWays(s, m))"
      ],
      "metadata": {
        "colab": {
          "base_uri": "https://localhost:8080/"
        },
        "id": "h-y_2R3SlJQC",
        "outputId": "5257f09f-76ed-4086-f4d2-9892546953a5"
      },
      "execution_count": null,
      "outputs": [
        {
          "output_type": "stream",
          "name": "stdout",
          "text": [
            "Number of ways = 5\n"
          ]
        }
      ]
    },
    {
      "cell_type": "markdown",
      "source": [
        "<aside>\n",
        "💡 **Question 6**\n",
        "Given an integer array nums sorted in **non-decreasing** order, return *an array of **the squares of each number** sorted in non-decreasing order*.\n",
        "\n",
        "**Example 1:**\n",
        "\n",
        "Input: nums = [-4,-1,0,3,10]\n",
        "\n",
        "Output: [0,1,9,16,100]\n",
        "\n",
        "**Explanation:** After squaring, the array becomes [16,1,0,9,100].\n",
        "After sorting, it becomes [0,1,9,16,100]\n",
        "\n",
        "</aside>"
      ],
      "metadata": {
        "id": "BlFjwiFhmJsE"
      }
    },
    {
      "cell_type": "code",
      "source": [
        "def sortSquares(arr, n):\n",
        "     \n",
        "    K = 0\n",
        "    for K in range(n):\n",
        "        if (arr[K] >= 0 ):\n",
        "            break\n",
        "     \n",
        "    i = K - 1 # Initial index of first half\n",
        "    j = K # Initial index of second half\n",
        "    ind = 0 # Initial index of temp array\n",
        "     \n",
        "    # store sorted array\n",
        "    temp = [0]*n\n",
        "    while (i >= 0 and j < n):\n",
        "         \n",
        "        if (arr[i] * arr[i] < arr[j] * arr[j]):\n",
        "            temp[ind] = arr[i] * arr[i]\n",
        "            i -= 1\n",
        "         \n",
        "        else:\n",
        "             \n",
        "            temp[ind] = arr[j] * arr[j]\n",
        "            j += 1\n",
        "             \n",
        "        ind += 1\n",
        "     \n",
        "    while (i >= 0):\n",
        "         \n",
        "        temp[ind] = arr[i] * arr[i]\n",
        "        i -= 1\n",
        "        ind += 1\n",
        "         \n",
        "    while (j < n):\n",
        "        temp[ind] = arr[j] * arr[j]\n",
        "        j += 1\n",
        "        ind += 1\n",
        "         \n",
        "    for i in range(n):\n",
        "        arr[i] = temp[i]\n",
        " \n",
        "# Driver code\n",
        "arr =  [-4,-1,0,3,10]\n",
        "n = len(arr)\n",
        " \n",
        "print(\"Before sort \")\n",
        "for i in range(n):\n",
        "    print(arr[i], end =\" \" )\n",
        "     \n",
        "sortSquares(arr, n)\n",
        "print(\"\\nAfter Sort \")\n",
        "for i in range(n):\n",
        "    print(arr[i], end =\" \" )\n",
        " "
      ],
      "metadata": {
        "colab": {
          "base_uri": "https://localhost:8080/"
        },
        "id": "zQCKt99tmJ5a",
        "outputId": "516dd382-291d-4d4f-cf1f-07376b5e61c9"
      },
      "execution_count": null,
      "outputs": [
        {
          "output_type": "stream",
          "name": "stdout",
          "text": [
            "Before sort \n",
            "-4 -1 0 3 10 \n",
            "After Sort \n",
            "0 1 9 16 100 "
          ]
        }
      ]
    },
    {
      "cell_type": "markdown",
      "source": [
        "<aside>\n",
        "💡 **Question 7**\n",
        "You are given an m x n matrix M initialized with all 0's and an array of operations ops, where ops[i] = [ai, bi] means M[x][y] should be incremented by one for all 0 <= x < ai and 0 <= y < bi.\n",
        "\n",
        "Count and return *the number of maximum integers in the matrix after performing all the operations*\n",
        "\n",
        "**Example 1:**\n",
        "\n",
        "\n",
        "**Input:** m = 3, n = 3, ops = [[2,2],[3,3]]\n",
        "\n",
        "**Output:** 4\n",
        "\n",
        "**Explanation:** The maximum integer in M is 2, and there are four of it in M. So return 4.\n",
        "\n",
        "</aside>"
      ],
      "metadata": {
        "id": "nnZoPfmzmKGO"
      }
    },
    {
      "cell_type": "code",
      "source": [
        "MAX = 1000000\n",
        " \n",
        "\n",
        "def maximumOccurredElement(L, R, n):\n",
        " \n",
        "    # Initialising all element of array to 0.\n",
        "    arr = [0 for i in range(MAX)]\n",
        " \n",
        "    # Adding +1 at Li index and subtracting 1\n",
        "    # at Ri index.\n",
        "    for i in range(0, n, 1):\n",
        "        arr[L[i]] += 1\n",
        "        arr[R[i] + 1] -= 1\n",
        " \n",
        "    msum = arr[0]\n",
        "    for i in range(1, MAX, 1):\n",
        "        arr[i] += arr[i - 1]\n",
        "        if (msum < arr[i]):\n",
        "            msum = arr[i]\n",
        "            ind = i\n",
        "    return ind\n",
        " \n",
        " \n",
        "# Driver Code\n",
        "if __name__ == '__main__':\n",
        "    L = [1, 4, 9, 13, 21]\n",
        "    R = [15, 8, 12, 20, 30]\n",
        "    n = len(L)\n",
        " \n",
        "    print(maximumOccurredElement(L, R, n))\n"
      ],
      "metadata": {
        "colab": {
          "base_uri": "https://localhost:8080/"
        },
        "id": "a8uBf3uEmKT2",
        "outputId": "7113dc2b-31be-4a45-d160-334011f75ce4"
      },
      "execution_count": null,
      "outputs": [
        {
          "output_type": "stream",
          "name": "stdout",
          "text": [
            "4\n"
          ]
        }
      ]
    },
    {
      "cell_type": "markdown",
      "source": [
        "<aside>\n",
        "💡 **Question 8**\n",
        "\n",
        "Given the array nums consisting of 2n elements in the form [x1,x2,...,xn,y1,y2,...,yn].\n",
        "\n",
        "*Return the array in the form* [x1,y1,x2,y2,...,xn,yn].\n",
        "\n",
        "**Example 1:**\n",
        "\n",
        "**Input:** nums = [2,5,1,3,4,7], n = 3\n",
        "\n",
        "**Output:** [2,3,5,4,1,7]\n",
        "\n",
        "**Explanation:** Since x1=2, x2=5, x3=1, y1=3, y2=4, y3=7 then the answer is [2,3,5,4,1,7].\n",
        "\n",
        "</aside>"
      ],
      "metadata": {
        "id": "3Q11_E3dmKix"
      }
    },
    {
      "cell_type": "code",
      "source": [
        "def shuffleArray(a, n):\n",
        " \n",
        "    # Rotate the element to the left\n",
        "    i, q, k = 0, 1, n\n",
        "    while(i < n):    \n",
        "        j = k\n",
        "        while(j > i + q):\n",
        "            a[j - 1], a[j] = a[j], a[j - 1]\n",
        "            j -= 1\n",
        "        i += 1\n",
        "        k += 1\n",
        "        q += 1\n",
        " \n",
        "a = [2,5,1,3,4,7]\n",
        "n = len(a)\n",
        "shuffleArray(a, int(n / 2))\n",
        "for i in range(0, n):\n",
        "    print(a[i], end = \" \")"
      ],
      "metadata": {
        "colab": {
          "base_uri": "https://localhost:8080/"
        },
        "id": "radp5ms8mK0-",
        "outputId": "6c7c6765-63c7-4389-a384-4f6da32bebd8"
      },
      "execution_count": null,
      "outputs": [
        {
          "output_type": "stream",
          "name": "stdout",
          "text": [
            "2 3 5 4 1 7 "
          ]
        }
      ]
    }
  ]
}